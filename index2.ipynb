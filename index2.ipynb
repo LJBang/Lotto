{
 "cells": [
  {
   "cell_type": "code",
   "execution_count": 2,
   "metadata": {},
   "outputs": [],
   "source": [
    "import json\n",
    "import numpy as np\n",
    "import networkx as nx\n",
    "import matplotlib.pyplot as plt\n",
    "import pandas as pd\n",
    "from keras.models import Sequential\n",
    "from keras.layers import LSTM, Dropout, Dense, Activation\n",
    "import datetime"
   ]
  },
  {
   "cell_type": "code",
   "execution_count": 3,
   "metadata": {},
   "outputs": [
    {
     "data": {
      "text/html": [
       "<div>\n",
       "<style scoped>\n",
       "    .dataframe tbody tr th:only-of-type {\n",
       "        vertical-align: middle;\n",
       "    }\n",
       "\n",
       "    .dataframe tbody tr th {\n",
       "        vertical-align: top;\n",
       "    }\n",
       "\n",
       "    .dataframe thead th {\n",
       "        text-align: right;\n",
       "    }\n",
       "</style>\n",
       "<table border=\"1\" class=\"dataframe\">\n",
       "  <thead>\n",
       "    <tr style=\"text-align: right;\">\n",
       "      <th></th>\n",
       "      <th>first</th>\n",
       "      <th>second</th>\n",
       "      <th>third</th>\n",
       "      <th>fourth</th>\n",
       "      <th>fifth</th>\n",
       "      <th>sixth</th>\n",
       "    </tr>\n",
       "  </thead>\n",
       "  <tbody>\n",
       "    <tr>\n",
       "      <th>0</th>\n",
       "      <td>10</td>\n",
       "      <td>23</td>\n",
       "      <td>29</td>\n",
       "      <td>33</td>\n",
       "      <td>37</td>\n",
       "      <td>40</td>\n",
       "    </tr>\n",
       "    <tr>\n",
       "      <th>1</th>\n",
       "      <td>9</td>\n",
       "      <td>13</td>\n",
       "      <td>21</td>\n",
       "      <td>25</td>\n",
       "      <td>32</td>\n",
       "      <td>42</td>\n",
       "    </tr>\n",
       "    <tr>\n",
       "      <th>2</th>\n",
       "      <td>11</td>\n",
       "      <td>16</td>\n",
       "      <td>19</td>\n",
       "      <td>21</td>\n",
       "      <td>27</td>\n",
       "      <td>31</td>\n",
       "    </tr>\n",
       "    <tr>\n",
       "      <th>3</th>\n",
       "      <td>14</td>\n",
       "      <td>27</td>\n",
       "      <td>30</td>\n",
       "      <td>31</td>\n",
       "      <td>40</td>\n",
       "      <td>42</td>\n",
       "    </tr>\n",
       "    <tr>\n",
       "      <th>4</th>\n",
       "      <td>16</td>\n",
       "      <td>24</td>\n",
       "      <td>29</td>\n",
       "      <td>40</td>\n",
       "      <td>41</td>\n",
       "      <td>42</td>\n",
       "    </tr>\n",
       "  </tbody>\n",
       "</table>\n",
       "</div>"
      ],
      "text/plain": [
       "   first  second  third  fourth  fifth  sixth\n",
       "0     10      23     29      33     37     40\n",
       "1      9      13     21      25     32     42\n",
       "2     11      16     19      21     27     31\n",
       "3     14      27     30      31     40     42\n",
       "4     16      24     29      40     41     42"
      ]
     },
     "execution_count": 3,
     "metadata": {},
     "output_type": "execute_result"
    }
   ],
   "source": [
    "data = pd.read_csv('dataset/lotto_his.csv')\n",
    "data.head()"
   ]
  },
  {
   "cell_type": "code",
   "execution_count": 5,
   "metadata": {},
   "outputs": [],
   "source": [
    "fr_n = data['first'].values\n",
    "se_n = data['second'].values\n",
    "th_n = data['third'].values\n",
    "fo_n = data['fourth'].values\n",
    "fi_n = data['fifth'].values\n",
    "si_n = data['sixth'].values\n",
    "\n",
    "mean_v = (fr_n+se_n+th_n+fr_n+fi_n+si_n)/6"
   ]
  },
  {
   "cell_type": "code",
   "execution_count": 6,
   "metadata": {
    "collapsed": true
   },
   "outputs": [],
   "source": [
    "seq_len=200\n",
    "sequence_length = seq_len + 1\n",
    "\n",
    "result=[]\n",
    "for index in range(len(si_n)-seq_len):\n",
    "    result.append(si_n[index:index + sequence_length])"
   ]
  },
  {
   "cell_type": "code",
   "execution_count": 7,
   "metadata": {},
   "outputs": [
    {
     "data": {
      "text/plain": [
       "((598, 200, 1), (67, 200, 1), numpy.ndarray)"
      ]
     },
     "execution_count": 7,
     "metadata": {},
     "output_type": "execute_result"
    }
   ],
   "source": [
    "normalized_data=[]\n",
    "for window in result:\n",
    "    normalized_window=[((float(p)/float(window[0]))-1)for p in window]\n",
    "    normalized_data.append(normalized_window)\n",
    "\n",
    "result = np.array(normalized_data)\n",
    "\n",
    "\n",
    "row = int(round(result.shape[0]*0.9))\n",
    "train = result[:row,:]\n",
    "np.random.shuffle(train)\n",
    "\n",
    "x_train = train[:,:-1]\n",
    "x_train = np.reshape(x_train, (x_train.shape[0],x_train.shape[1],1))\n",
    "y_train = train[:,-1]\n",
    "\n",
    "x_test = result[row:,:-1]\n",
    "x_test = np.reshape(x_test, (x_test.shape[0],x_test.shape[1],1))\n",
    "y_test = result[row:,-1]\n",
    "\n",
    "x_train.shape, x_test.shape, type(result)"
   ]
  },
  {
   "cell_type": "code",
   "execution_count": 8,
   "metadata": {},
   "outputs": [
    {
     "name": "stdout",
     "output_type": "stream",
     "text": [
      "_________________________________________________________________\n",
      "Layer (type)                 Output Shape              Param #   \n",
      "=================================================================\n",
      "lstm_1 (LSTM)                (None, 200, 200)          161600    \n",
      "_________________________________________________________________\n",
      "lstm_2 (LSTM)                (None, 128)               168448    \n",
      "_________________________________________________________________\n",
      "dense_1 (Dense)              (None, 1)                 129       \n",
      "=================================================================\n",
      "Total params: 330,177\n",
      "Trainable params: 330,177\n",
      "Non-trainable params: 0\n",
      "_________________________________________________________________\n"
     ]
    }
   ],
   "source": [
    "model = Sequential()\n",
    "\n",
    "model.add(LSTM(200,return_sequences=True, input_shape=(200,1)))\n",
    "model.add(LSTM(128,return_sequences=False))\n",
    "model.add(Dense(1,activation='linear'))\n",
    "model.compile(loss='mse',optimizer='rmsprop')\n",
    "model.summary()"
   ]
  },
  {
   "cell_type": "code",
   "execution_count": 9,
   "metadata": {},
   "outputs": [
    {
     "name": "stdout",
     "output_type": "stream",
     "text": [
      "Train on 598 samples, validate on 67 samples\n",
      "Epoch 1/3\n",
      "598/598 [==============================] - 53s 89ms/step - loss: 0.0256 - val_loss: 0.0228\n",
      "Epoch 2/3\n",
      "598/598 [==============================] - 51s 86ms/step - loss: 0.0231 - val_loss: 0.0226\n",
      "Epoch 3/3\n",
      "598/598 [==============================] - 51s 85ms/step - loss: 0.0240 - val_loss: 0.0229\n"
     ]
    },
    {
     "data": {
      "text/plain": [
       "<keras.callbacks.History at 0x7f63ce0e2860>"
      ]
     },
     "execution_count": 9,
     "metadata": {},
     "output_type": "execute_result"
    }
   ],
   "source": [
    "model.fit(x_train, y_train,\n",
    "         validation_data=(x_test, y_test),\n",
    "         batch_size=32,\n",
    "         epochs=3)"
   ]
  },
  {
   "cell_type": "code",
   "execution_count": 10,
   "metadata": {},
   "outputs": [
    {
     "data": {
      "text/plain": [
       "(36.0, 45, 38)"
      ]
     },
     "execution_count": 10,
     "metadata": {},
     "output_type": "execute_result"
    }
   ],
   "source": [
    "pred = model.predict(x_test)\n",
    "pred_six = (int)((pred[66,0]+1)*window[0])\n",
    "\n",
    "\n",
    "\"\"\"\n",
    "x_t1=[]\n",
    "for i in range(len(x_test)):\n",
    "    x_t1.append(np.delete(x_test[i], 0, 0))\n",
    "\n",
    "x_t4=[]\n",
    "x_t3=[]\n",
    "x_t2=[]\n",
    "for i in range(len(x_t1)):\n",
    "    x_t1[i].resize(200)\n",
    "    x_t1[i][199] = y_test[i]\n",
    "    \n",
    "   for j in range(len(x_t1[i])):\n",
    "        x_t2.append(x_t1[i][j])\n",
    "        x_t3.append(x_t2)\n",
    "    x_t4.append(x_t3)\n",
    "       \n",
    "x_t5 = np.array(x_t4)\n",
    "\n",
    "pred = model.predict(x_t5)\n",
    "\n",
    "pred_six = (int)((pred[65,0]+1)*window[0])\n",
    "\n",
    "(y_test[65]+1)*window[0], window[200], pred_six\n",
    "x_t1[1], y_test[1]\"\"\"\n",
    "\n",
    "(y_test[66]+1)*window[0], window[200], pred_six"
   ]
  },
  {
   "cell_type": "code",
   "execution_count": 11,
   "metadata": {},
   "outputs": [
    {
     "name": "stdout",
     "output_type": "stream",
     "text": [
      "_________________________________________________________________\n",
      "Layer (type)                 Output Shape              Param #   \n",
      "=================================================================\n",
      "lstm_3 (LSTM)                (None, 200, 200)          161600    \n",
      "_________________________________________________________________\n",
      "lstm_4 (LSTM)                (None, 128)               168448    \n",
      "_________________________________________________________________\n",
      "dense_2 (Dense)              (None, 1)                 129       \n",
      "=================================================================\n",
      "Total params: 330,177\n",
      "Trainable params: 330,177\n",
      "Non-trainable params: 0\n",
      "_________________________________________________________________\n",
      "Train on 598 samples, validate on 67 samples\n",
      "Epoch 1/3\n",
      "598/598 [==============================] - 53s 89ms/step - loss: 0.0675 - val_loss: 0.0718\n",
      "Epoch 2/3\n",
      "598/598 [==============================] - 51s 85ms/step - loss: 0.0583 - val_loss: 0.0695\n",
      "Epoch 3/3\n",
      "598/598 [==============================] - 51s 85ms/step - loss: 0.0598 - val_loss: 0.0664\n"
     ]
    },
    {
     "data": {
      "text/plain": [
       "<keras.callbacks.History at 0x7f63be7b5c50>"
      ]
     },
     "execution_count": 11,
     "metadata": {},
     "output_type": "execute_result"
    }
   ],
   "source": [
    "result=[]\n",
    "for index in range(len(fi_n)-seq_len):\n",
    "    result.append(fi_n[index:index + sequence_length])\n",
    "    \n",
    "normalized_data=[]\n",
    "for window in result:\n",
    "    normalized_window=[((float(p)/float(window[0]))-1)for p in window]\n",
    "    normalized_data.append(normalized_window)\n",
    "\n",
    "result = np.array(normalized_data)\n",
    "\n",
    "\n",
    "row = int(round(result.shape[0]*0.9))\n",
    "train = result[:row,:]\n",
    "np.random.shuffle(train)\n",
    "\n",
    "x_train = train[:,:-1]\n",
    "x_train = np.reshape(x_train, (x_train.shape[0],x_train.shape[1],1))\n",
    "y_train = train[:,-1]\n",
    "\n",
    "x_test = result[row:,:-1]\n",
    "x_test = np.reshape(x_test, (x_test.shape[0],x_test.shape[1],1))\n",
    "y_test = result[row:,-1]\n",
    "\n",
    "x_train.shape, x_test.shape\n",
    "\n",
    "model = Sequential()\n",
    "\n",
    "model.add(LSTM(200,return_sequences=True, input_shape=(200,1)))\n",
    "model.add(LSTM(128,return_sequences=False))\n",
    "model.add(Dense(1,activation='linear'))\n",
    "model.compile(loss='mse',optimizer='rmsprop')\n",
    "model.summary()\n",
    "\n",
    "model.fit(x_train, y_train,\n",
    "         validation_data=(x_test, y_test),\n",
    "         batch_size=32,\n",
    "         epochs=3)"
   ]
  },
  {
   "cell_type": "code",
   "execution_count": 12,
   "metadata": {},
   "outputs": [
    {
     "data": {
      "text/plain": [
       "(23.170731707317074, 33, 31)"
      ]
     },
     "execution_count": 12,
     "metadata": {},
     "output_type": "execute_result"
    }
   ],
   "source": [
    "pred = model.predict(x_test)\n",
    "pred_five = (int)((pred[66,0]+1)*window[0])\n",
    "\n",
    "(y_test[66]+1)*window[0], window[200], pred_five"
   ]
  },
  {
   "cell_type": "code",
   "execution_count": 13,
   "metadata": {},
   "outputs": [
    {
     "name": "stdout",
     "output_type": "stream",
     "text": [
      "_________________________________________________________________\n",
      "Layer (type)                 Output Shape              Param #   \n",
      "=================================================================\n",
      "lstm_5 (LSTM)                (None, 200, 200)          161600    \n",
      "_________________________________________________________________\n",
      "lstm_6 (LSTM)                (None, 128)               168448    \n",
      "_________________________________________________________________\n",
      "dense_3 (Dense)              (None, 1)                 129       \n",
      "=================================================================\n",
      "Total params: 330,177\n",
      "Trainable params: 330,177\n",
      "Non-trainable params: 0\n",
      "_________________________________________________________________\n",
      "Train on 598 samples, validate on 67 samples\n",
      "Epoch 1/3\n",
      "598/598 [==============================] - 53s 89ms/step - loss: 0.1675 - val_loss: 0.1797\n",
      "Epoch 2/3\n",
      "598/598 [==============================] - 51s 85ms/step - loss: 0.1381 - val_loss: 0.1652\n",
      "Epoch 3/3\n",
      "598/598 [==============================] - 51s 85ms/step - loss: 0.1384 - val_loss: 0.1470\n"
     ]
    },
    {
     "data": {
      "text/plain": [
       "<keras.callbacks.History at 0x7f639c152ef0>"
      ]
     },
     "execution_count": 13,
     "metadata": {},
     "output_type": "execute_result"
    }
   ],
   "source": [
    "result=[]\n",
    "for index in range(len(fo_n)-seq_len):\n",
    "    result.append(fo_n[index:index + sequence_length])\n",
    "    \n",
    "normalized_data=[]\n",
    "for window in result:\n",
    "    normalized_window=[((float(p)/float(window[0]))-1)for p in window]\n",
    "    normalized_data.append(normalized_window)\n",
    "\n",
    "result = np.array(normalized_data)\n",
    "\n",
    "\n",
    "row = int(round(result.shape[0]*0.9))\n",
    "train = result[:row,:]\n",
    "np.random.shuffle(train)\n",
    "\n",
    "x_train = train[:,:-1]\n",
    "x_train = np.reshape(x_train, (x_train.shape[0],x_train.shape[1],1))\n",
    "y_train = train[:,-1]\n",
    "\n",
    "x_test = result[row:,:-1]\n",
    "x_test = np.reshape(x_test, (x_test.shape[0],x_test.shape[1],1))\n",
    "y_test = result[row:,-1]\n",
    "\n",
    "x_train.shape, x_test.shape\n",
    "\n",
    "model = Sequential()\n",
    "\n",
    "model.add(LSTM(200,return_sequences=True, input_shape=(200,1)))\n",
    "model.add(LSTM(128,return_sequences=False))\n",
    "model.add(Dense(1,activation='linear'))\n",
    "model.compile(loss='mse',optimizer='rmsprop')\n",
    "model.summary()\n",
    "\n",
    "model.fit(x_train, y_train,\n",
    "         validation_data=(x_test, y_test),\n",
    "         batch_size=32,\n",
    "         epochs=3)"
   ]
  },
  {
   "cell_type": "code",
   "execution_count": 16,
   "metadata": {},
   "outputs": [
    {
     "data": {
      "text/plain": [
       "(6.138888888888889, 32, 14)"
      ]
     },
     "execution_count": 16,
     "metadata": {},
     "output_type": "execute_result"
    }
   ],
   "source": [
    "pred = model.predict(x_test)\n",
    "pred_four = (int)((pred[66,0]+1)*window[0])\n",
    "\n",
    "(y_test[66]+1)*window[0], window[200], pred_four\n"
   ]
  },
  {
   "cell_type": "code",
   "execution_count": 17,
   "metadata": {},
   "outputs": [
    {
     "name": "stdout",
     "output_type": "stream",
     "text": [
      "_________________________________________________________________\n",
      "Layer (type)                 Output Shape              Param #   \n",
      "=================================================================\n",
      "lstm_7 (LSTM)                (None, 200, 200)          161600    \n",
      "_________________________________________________________________\n",
      "lstm_8 (LSTM)                (None, 128)               168448    \n",
      "_________________________________________________________________\n",
      "dense_4 (Dense)              (None, 1)                 129       \n",
      "=================================================================\n",
      "Total params: 330,177\n",
      "Trainable params: 330,177\n",
      "Non-trainable params: 0\n",
      "_________________________________________________________________\n",
      "Train on 598 samples, validate on 67 samples\n",
      "Epoch 1/3\n",
      "598/598 [==============================] - 54s 90ms/step - loss: 0.3578 - val_loss: 0.2951\n",
      "Epoch 2/3\n",
      "598/598 [==============================] - 51s 85ms/step - loss: 0.3136 - val_loss: 0.3621\n",
      "Epoch 3/3\n",
      "598/598 [==============================] - 52s 86ms/step - loss: 0.2804 - val_loss: 0.3629\n"
     ]
    },
    {
     "data": {
      "text/plain": [
       "<keras.callbacks.History at 0x7f639a2c4fd0>"
      ]
     },
     "execution_count": 17,
     "metadata": {},
     "output_type": "execute_result"
    }
   ],
   "source": [
    "result=[]\n",
    "for index in range(len(th_n)-seq_len):\n",
    "    result.append(th_n[index:index + sequence_length])\n",
    "    \n",
    "normalized_data=[]\n",
    "for window in result:\n",
    "    normalized_window=[((float(p)/float(window[0]))-1)for p in window]\n",
    "    normalized_data.append(normalized_window)\n",
    "\n",
    "result = np.array(normalized_data)\n",
    "\n",
    "\n",
    "row = int(round(result.shape[0]*0.9))\n",
    "train = result[:row,:]\n",
    "np.random.shuffle(train)\n",
    "\n",
    "x_train = train[:,:-1]\n",
    "x_train = np.reshape(x_train, (x_train.shape[0],x_train.shape[1],1))\n",
    "y_train = train[:,-1]\n",
    "\n",
    "x_test = result[row:,:-1]\n",
    "x_test = np.reshape(x_test, (x_test.shape[0],x_test.shape[1],1))\n",
    "y_test = result[row:,-1]\n",
    "\n",
    "x_train.shape, x_test.shape\n",
    "\n",
    "model = Sequential()\n",
    "\n",
    "model.add(LSTM(200,return_sequences=True, input_shape=(200,1)))\n",
    "model.add(LSTM(128,return_sequences=False))\n",
    "model.add(Dense(1,activation='linear'))\n",
    "model.compile(loss='mse',optimizer='rmsprop')\n",
    "model.summary()\n",
    "\n",
    "model.fit(x_train, y_train,\n",
    "         validation_data=(x_test, y_test),\n",
    "         batch_size=32,\n",
    "         epochs=3)"
   ]
  },
  {
   "cell_type": "code",
   "execution_count": 18,
   "metadata": {},
   "outputs": [
    {
     "data": {
      "text/plain": [
       "(22.0, 22, 19)"
      ]
     },
     "execution_count": 18,
     "metadata": {},
     "output_type": "execute_result"
    }
   ],
   "source": [
    "pred = model.predict(x_test)\n",
    "pred_three = (int)((pred[66,0]+1)*window[0])\n",
    "\n",
    "(y_test[66]+1)*window[0], window[200], pred_three"
   ]
  },
  {
   "cell_type": "code",
   "execution_count": 36,
   "metadata": {},
   "outputs": [
    {
     "name": "stdout",
     "output_type": "stream",
     "text": [
      "_________________________________________________________________\n",
      "Layer (type)                 Output Shape              Param #   \n",
      "=================================================================\n",
      "lstm_15 (LSTM)               (None, 200, 200)          161600    \n",
      "_________________________________________________________________\n",
      "lstm_16 (LSTM)               (None, 128)               168448    \n",
      "_________________________________________________________________\n",
      "dense_8 (Dense)              (None, 1)                 129       \n",
      "=================================================================\n",
      "Total params: 330,177\n",
      "Trainable params: 330,177\n",
      "Non-trainable params: 0\n",
      "_________________________________________________________________\n",
      "Train on 598 samples, validate on 66 samples\n",
      "Epoch 1/3\n",
      "598/598 [==============================] - 55s 91ms/step - loss: 1.3735 - val_loss: 1.5233\n",
      "Epoch 2/3\n",
      "598/598 [==============================] - 51s 85ms/step - loss: 1.1333 - val_loss: 1.5371\n",
      "Epoch 3/3\n",
      "598/598 [==============================] - 51s 85ms/step - loss: 1.0963 - val_loss: 1.6222\n"
     ]
    },
    {
     "data": {
      "text/plain": [
       "<keras.callbacks.History at 0x7f0cdf53dac8>"
      ]
     },
     "execution_count": 36,
     "metadata": {},
     "output_type": "execute_result"
    }
   ],
   "source": [
    "result=[]\n",
    "for index in range(len(se_n)-seq_len):\n",
    "    result.append(se_n[index:index + sequence_length])\n",
    "    \n",
    "normalized_data=[]\n",
    "for window in result:\n",
    "    normalized_window=[((float(p)/float(window[0]))-1)for p in window]\n",
    "    normalized_data.append(normalized_window)\n",
    "\n",
    "result = np.array(normalized_data)\n",
    "\n",
    "\n",
    "row = int(round(result.shape[0]*0.9))\n",
    "train = result[:row,:]\n",
    "np.random.shuffle(train)\n",
    "\n",
    "x_train = train[:,:-1]\n",
    "x_train = np.reshape(x_train, (x_train.shape[0],x_train.shape[1],1))\n",
    "y_train = train[:,-1]\n",
    "\n",
    "x_test = result[row:,:-1]\n",
    "x_test = np.reshape(x_test, (x_test.shape[0],x_test.shape[1],1))\n",
    "y_test = result[row:,-1]\n",
    "\n",
    "x_train.shape, x_test.shape\n",
    "\n",
    "model = Sequential()\n",
    "\n",
    "model.add(LSTM(200,return_sequences=True, input_shape=(200,1)))\n",
    "model.add(LSTM(128,return_sequences=False))\n",
    "model.add(Dense(1,activation='linear'))\n",
    "model.compile(loss='mse',optimizer='rmsprop')\n",
    "model.summary()\n",
    "\n",
    "model.fit(x_train, y_train,\n",
    "         validation_data=(x_test, y_test),\n",
    "         batch_size=32,\n",
    "         epochs=3)"
   ]
  },
  {
   "cell_type": "code",
   "execution_count": 37,
   "metadata": {},
   "outputs": [
    {
     "data": {
      "text/plain": [
       "(23.0, 23, 13)"
      ]
     },
     "execution_count": 37,
     "metadata": {},
     "output_type": "execute_result"
    }
   ],
   "source": [
    "pred = model.predict(x_test)\n",
    "pred_two = (int)((pred[66,0]+1)*window[0])\n",
    "\n",
    "(y_test[66]+1)*window[0], window[200], pred_two"
   ]
  },
  {
   "cell_type": "code",
   "execution_count": 38,
   "metadata": {},
   "outputs": [
    {
     "name": "stdout",
     "output_type": "stream",
     "text": [
      "_________________________________________________________________\n",
      "Layer (type)                 Output Shape              Param #   \n",
      "=================================================================\n",
      "lstm_17 (LSTM)               (None, 200, 200)          161600    \n",
      "_________________________________________________________________\n",
      "lstm_18 (LSTM)               (None, 128)               168448    \n",
      "_________________________________________________________________\n",
      "dense_9 (Dense)              (None, 1)                 129       \n",
      "=================================================================\n",
      "Total params: 330,177\n",
      "Trainable params: 330,177\n",
      "Non-trainable params: 0\n",
      "_________________________________________________________________\n",
      "Train on 598 samples, validate on 66 samples\n",
      "Epoch 1/3\n",
      "598/598 [==============================] - 55s 92ms/step - loss: 6.4807 - val_loss: 9.6790\n",
      "Epoch 2/3\n",
      "598/598 [==============================] - 51s 85ms/step - loss: 5.8899 - val_loss: 7.5504\n",
      "Epoch 3/3\n",
      "598/598 [==============================] - 51s 85ms/step - loss: 5.9715 - val_loss: 7.8600\n"
     ]
    },
    {
     "data": {
      "text/plain": [
       "<keras.callbacks.History at 0x7f0cdd7a83c8>"
      ]
     },
     "execution_count": 38,
     "metadata": {},
     "output_type": "execute_result"
    }
   ],
   "source": [
    "result=[]\n",
    "for index in range(len(fr_n)-seq_len):\n",
    "    result.append(fr_n[index:index + sequence_length])\n",
    "    \n",
    "normalized_data=[]\n",
    "for window in result:\n",
    "    normalized_window=[((float(p)/float(window[0]))-1)for p in window]\n",
    "    normalized_data.append(normalized_window)\n",
    "\n",
    "result = np.array(normalized_data)\n",
    "\n",
    "\n",
    "row = int(round(result.shape[0]*0.9))\n",
    "train = result[:row,:]\n",
    "np.random.shuffle(train)\n",
    "\n",
    "x_train = train[:,:-1]\n",
    "x_train = np.reshape(x_train, (x_train.shape[0],x_train.shape[1],1))\n",
    "y_train = train[:,-1]\n",
    "\n",
    "x_test = result[row:,:-1]\n",
    "x_test = np.reshape(x_test, (x_test.shape[0],x_test.shape[1],1))\n",
    "y_test = result[row:,-1]\n",
    "\n",
    "x_train.shape, x_test.shape\n",
    "\n",
    "model = Sequential()\n",
    "\n",
    "model.add(LSTM(200,return_sequences=True, input_shape=(200,1)))\n",
    "model.add(LSTM(128,return_sequences=False))\n",
    "model.add(Dense(1,activation='linear'))\n",
    "model.compile(loss='mse',optimizer='rmsprop')\n",
    "model.summary()\n",
    "\n",
    "model.fit(x_train, y_train,\n",
    "         validation_data=(x_test, y_test),\n",
    "         batch_size=32,\n",
    "         epochs=3)"
   ]
  },
  {
   "cell_type": "code",
   "execution_count": 39,
   "metadata": {},
   "outputs": [
    {
     "data": {
      "text/plain": [
       "(10.0, 10, 10)"
      ]
     },
     "execution_count": 39,
     "metadata": {},
     "output_type": "execute_result"
    }
   ],
   "source": [
    "pred = model.predict(x_test)\n",
    "pred_one = (int)((pred[66,0]+1)*window[0])\n",
    "\n",
    "(y_test[66]+1)*window[0], window[200], pred_one"
   ]
  },
  {
   "cell_type": "code",
   "execution_count": 40,
   "metadata": {},
   "outputs": [
    {
     "data": {
      "text/plain": [
       "(10, 13, 22, 32, 36, 39)"
      ]
     },
     "execution_count": 40,
     "metadata": {},
     "output_type": "execute_result"
    }
   ],
   "source": [
    "pred_one, pred_two, pred_three, pred_four, pred_five, pred_six"
   ]
  },
  {
   "cell_type": "code",
   "execution_count": 15,
   "metadata": {},
   "outputs": [
    {
     "data": {
      "text/plain": [
       "(3, 15, 22, 32, 33, 45)"
      ]
     },
     "execution_count": 15,
     "metadata": {},
     "output_type": "execute_result"
    }
   ],
   "source": [
    "fr_n[864],se_n[864],th_n[864],fo_n[864],fi_n[864],si_n[864]"
   ]
  },
  {
   "cell_type": "code",
   "execution_count": null,
   "metadata": {
    "collapsed": true
   },
   "outputs": [],
   "source": []
  }
 ],
 "metadata": {
  "kernelspec": {
   "display_name": "Python 3",
   "language": "python",
   "name": "python3"
  },
  "language_info": {
   "codemirror_mode": {
    "name": "ipython",
    "version": 3
   },
   "file_extension": ".py",
   "mimetype": "text/x-python",
   "name": "python",
   "nbconvert_exporter": "python",
   "pygments_lexer": "ipython3",
   "version": "3.6.5"
  }
 },
 "nbformat": 4,
 "nbformat_minor": 2
}
